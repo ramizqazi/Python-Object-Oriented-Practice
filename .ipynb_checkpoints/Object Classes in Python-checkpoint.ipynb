{
 "cells": [
  {
   "cell_type": "markdown",
   "id": "8f30f7af",
   "metadata": {},
   "source": [
    "# Object Oriented Programming"
   ]
  },
  {
   "cell_type": "raw",
   "id": "e06dd55b",
   "metadata": {},
   "source": [
    "-Class\n",
    "-Object \n",
    "-Attributes\n",
    "-Behaviours"
   ]
  },
  {
   "cell_type": "code",
   "execution_count": 1,
   "id": "6910757e",
   "metadata": {},
   "outputs": [],
   "source": [
    "#defining class\n",
    "class Student():\n",
    "    pass"
   ]
  },
  {
   "cell_type": "code",
   "execution_count": 2,
   "id": "52f9d25c",
   "metadata": {},
   "outputs": [],
   "source": [
    "#object Creation\n",
    "student1 = Student()"
   ]
  },
  {
   "cell_type": "code",
   "execution_count": 4,
   "id": "aa7762ab",
   "metadata": {},
   "outputs": [],
   "source": [
    "#Object Creation\n",
    "student2 = Student()"
   ]
  },
  {
   "cell_type": "code",
   "execution_count": 5,
   "id": "76e06a17",
   "metadata": {},
   "outputs": [],
   "source": [
    "class Student():\n",
    "    #attributes\n",
    "    name = \"Ali\"\n",
    "    gender = \"Male\"\n",
    "    age = \"23\"\n",
    "    course = \"AI\"\n",
    "    roll = 123\n",
    "    institute = \"SSUET\""
   ]
  },
  {
   "cell_type": "code",
   "execution_count": 6,
   "id": "7577a5cf",
   "metadata": {},
   "outputs": [],
   "source": [
    "student1 = Student()"
   ]
  },
  {
   "cell_type": "code",
   "execution_count": 7,
   "id": "87d41c50",
   "metadata": {},
   "outputs": [
    {
     "data": {
      "text/plain": [
       "'Ali'"
      ]
     },
     "execution_count": 7,
     "metadata": {},
     "output_type": "execute_result"
    }
   ],
   "source": [
    "student1.name"
   ]
  },
  {
   "cell_type": "code",
   "execution_count": 9,
   "id": "2a46180d",
   "metadata": {},
   "outputs": [
    {
     "data": {
      "text/plain": [
       "'AI'"
      ]
     },
     "execution_count": 9,
     "metadata": {},
     "output_type": "execute_result"
    }
   ],
   "source": [
    "student1.course"
   ]
  },
  {
   "cell_type": "code",
   "execution_count": 10,
   "id": "01a668d9",
   "metadata": {},
   "outputs": [],
   "source": [
    "student2 = Student()"
   ]
  },
  {
   "cell_type": "code",
   "execution_count": 11,
   "id": "85c76dbf",
   "metadata": {},
   "outputs": [
    {
     "data": {
      "text/plain": [
       "'Ali'"
      ]
     },
     "execution_count": 11,
     "metadata": {},
     "output_type": "execute_result"
    }
   ],
   "source": [
    "student2.name"
   ]
  },
  {
   "cell_type": "code",
   "execution_count": 20,
   "id": "3e852781",
   "metadata": {},
   "outputs": [],
   "source": [
    "class Student():\n",
    "    def __init__(self,name,roll,course,centre):\n",
    "        #Attributes\n",
    "        self.name = name\n",
    "        self.roll = roll\n",
    "        self.course = course\n",
    "        self.centre = centre"
   ]
  },
  {
   "cell_type": "code",
   "execution_count": 21,
   "id": "5bb46986",
   "metadata": {},
   "outputs": [],
   "source": [
    "s1 = Student(\"Ali\",123,\"Ai\",\"SSUET\")"
   ]
  },
  {
   "cell_type": "code",
   "execution_count": 22,
   "id": "26abd830",
   "metadata": {},
   "outputs": [
    {
     "data": {
      "text/plain": [
       "'Ali'"
      ]
     },
     "execution_count": 22,
     "metadata": {},
     "output_type": "execute_result"
    }
   ],
   "source": [
    "s1.name"
   ]
  },
  {
   "cell_type": "code",
   "execution_count": 23,
   "id": "a0772318",
   "metadata": {},
   "outputs": [
    {
     "ename": "TypeError",
     "evalue": "__init__() takes 5 positional arguments but 6 were given",
     "output_type": "error",
     "traceback": [
      "\u001b[1;31m---------------------------------------\u001b[0m",
      "\u001b[1;31mTypeError\u001b[0mTraceback (most recent call last)",
      "\u001b[1;32m<ipython-input-23-28314767902d>\u001b[0m in \u001b[0;36m<module>\u001b[1;34m\u001b[0m\n\u001b[1;32m----> 1\u001b[1;33m \u001b[0ms2\u001b[0m \u001b[1;33m=\u001b[0m \u001b[0mStudent\u001b[0m\u001b[1;33m(\u001b[0m\u001b[1;34m\"Sana\"\u001b[0m\u001b[1;33m,\u001b[0m \u001b[1;36m124\u001b[0m\u001b[1;33m,\u001b[0m \u001b[1;34m\"Ai\"\u001b[0m\u001b[1;33m,\u001b[0m\u001b[1;34m\"UIT\"\u001b[0m\u001b[1;33m,\u001b[0m\u001b[1;34m\"Male\"\u001b[0m\u001b[1;33m)\u001b[0m\u001b[1;33m\u001b[0m\u001b[1;33m\u001b[0m\u001b[0m\n\u001b[0m",
      "\u001b[1;31mTypeError\u001b[0m: __init__() takes 5 positional arguments but 6 were given"
     ]
    }
   ],
   "source": [
    "s2 = Student(\"Sana\", 124, \"Ai\",\"UIT\",\"Male\")"
   ]
  },
  {
   "cell_type": "code",
   "execution_count": 24,
   "id": "92f18a11",
   "metadata": {},
   "outputs": [
    {
     "data": {
      "text/plain": [
       "'Sana'"
      ]
     },
     "execution_count": 24,
     "metadata": {},
     "output_type": "execute_result"
    }
   ],
   "source": [
    "s2.name"
   ]
  },
  {
   "cell_type": "code",
   "execution_count": 25,
   "id": "ff36dbe7",
   "metadata": {},
   "outputs": [
    {
     "data": {
      "text/plain": [
       "'Ali'"
      ]
     },
     "execution_count": 25,
     "metadata": {},
     "output_type": "execute_result"
    }
   ],
   "source": [
    "s1.name"
   ]
  },
  {
   "cell_type": "code",
   "execution_count": 26,
   "id": "7835e654",
   "metadata": {},
   "outputs": [
    {
     "data": {
      "text/plain": [
       "'Ai'"
      ]
     },
     "execution_count": 26,
     "metadata": {},
     "output_type": "execute_result"
    }
   ],
   "source": [
    "s2.course"
   ]
  },
  {
   "cell_type": "code",
   "execution_count": 27,
   "id": "a1d97ada",
   "metadata": {},
   "outputs": [],
   "source": [
    "a = int(10)"
   ]
  },
  {
   "cell_type": "code",
   "execution_count": 28,
   "id": "27377f6b",
   "metadata": {},
   "outputs": [
    {
     "name": "stdout",
     "output_type": "stream",
     "text": [
      "<class 'int'>\n"
     ]
    }
   ],
   "source": [
    "print(type(a))"
   ]
  },
  {
   "cell_type": "code",
   "execution_count": 29,
   "id": "669a4d7c",
   "metadata": {},
   "outputs": [
    {
     "name": "stdout",
     "output_type": "stream",
     "text": [
      "<class '__main__.Student'>\n"
     ]
    }
   ],
   "source": [
    "print(type(s1))"
   ]
  },
  {
   "cell_type": "code",
   "execution_count": 30,
   "id": "454e5e4b",
   "metadata": {},
   "outputs": [],
   "source": [
    "class Student():\n",
    "    def __init__(self,name,roll,course,centre):\n",
    "        #Attributes/characteristics/ variables\n",
    "        self.name = name\n",
    "        self.roll = roll\n",
    "        self.course = course\n",
    "        self.centre = centre\n",
    "    #behaviours /functionalities / methods\n",
    "    \n",
    "    def appearExam(self):\n",
    "        print(f\"{self.name} is sitting in exam\")\n",
    "    \n",
    "    \n",
    "    def studentProfile(self):\n",
    "        print(f\"\"\"\n",
    "               Student Profile\n",
    "               _______________\n",
    "               Name: {self.name}\n",
    "               Roll Number : {self.roll}\n",
    "               Course: {self.course}\n",
    "               Centre:{self.centre}\"\"\")\n",
    "        "
   ]
  },
  {
   "cell_type": "code",
   "execution_count": 31,
   "id": "13c8c46f",
   "metadata": {},
   "outputs": [],
   "source": [
    "s4 = Student(\"Fahad\",111,\"Web\",\"SSUET\")"
   ]
  },
  {
   "cell_type": "code",
   "execution_count": 32,
   "id": "640acd13",
   "metadata": {},
   "outputs": [
    {
     "name": "stdout",
     "output_type": "stream",
     "text": [
      "Fahad is sitting in exam\n"
     ]
    }
   ],
   "source": [
    "s4.appearExam()"
   ]
  },
  {
   "cell_type": "code",
   "execution_count": 33,
   "id": "eb5b91aa",
   "metadata": {},
   "outputs": [],
   "source": [
    "s5 = Student(\"Nasir\",111,\"Web\",\"SSUET\")"
   ]
  },
  {
   "cell_type": "code",
   "execution_count": 34,
   "id": "b6591f9b",
   "metadata": {},
   "outputs": [
    {
     "name": "stdout",
     "output_type": "stream",
     "text": [
      "Nasir is sitting in exam\n"
     ]
    }
   ],
   "source": [
    "s5.appearExam()"
   ]
  },
  {
   "cell_type": "code",
   "execution_count": 35,
   "id": "c64f2e1a",
   "metadata": {},
   "outputs": [
    {
     "name": "stdout",
     "output_type": "stream",
     "text": [
      "\n",
      "               Student Profile\n",
      "               _______________\n",
      "               Name: Fahad\n",
      "               Roll Number : 111\n",
      "               Course: Web\n",
      "               Centre:SSUET\n"
     ]
    }
   ],
   "source": [
    "s4.studentProfile()"
   ]
  },
  {
   "cell_type": "code",
   "execution_count": 36,
   "id": "df1e74f6",
   "metadata": {},
   "outputs": [
    {
     "name": "stdout",
     "output_type": "stream",
     "text": [
      "\n",
      "               Student Profile\n",
      "               _______________\n",
      "               Name: Nasir\n",
      "               Roll Number : 111\n",
      "               Course: Web\n",
      "               Centre:SSUET\n"
     ]
    }
   ],
   "source": [
    "s5.studentProfile()"
   ]
  },
  {
   "cell_type": "code",
   "execution_count": 60,
   "id": "d2e765fc",
   "metadata": {},
   "outputs": [],
   "source": [
    "class Student():\n",
    "    # class sttribute\n",
    "    centre = \"SSUET\"\n",
    "    course = \"Python\"\n",
    "    \n",
    "    #instance attributes /methods\n",
    "    def __init__(self,name,roll):\n",
    "        #Attributes/characteristics/ variables\n",
    "        self.name = name\n",
    "        self.roll = roll\n",
    "        \n",
    "    #behaviours /functionalities / methods\n",
    "    \n",
    "    def appearExam(self,attendance,feesPaid):\n",
    "        if attendance >=70:\n",
    "            if feesPaid:\n",
    "                print(f\"{self.name} is allowed to sit in exam\")\n",
    "            else:\n",
    "                print(f\"{self.name} is not allowed to sit in exam\")\n",
    "            \n",
    "        else:\n",
    "            print(f\"{self.name} is not allowed to sit in exam\")\n",
    "    \n",
    "    \n",
    "    def studentProfile(self):\n",
    "        print(f\"\"\"\n",
    "               Student Profile\n",
    "               _______________\n",
    "               Name: {self.name}\n",
    "               Roll Number : {self.roll}\n",
    "               Course: {Student.course}\n",
    "               Centre:{Student.centre}\"\"\")\n",
    "        "
   ]
  },
  {
   "cell_type": "code",
   "execution_count": 61,
   "id": "6a9a49bb",
   "metadata": {},
   "outputs": [],
   "source": [
    "s6 = Student(\"Kiran\",111)"
   ]
  },
  {
   "cell_type": "code",
   "execution_count": 62,
   "id": "73607383",
   "metadata": {},
   "outputs": [
    {
     "name": "stdout",
     "output_type": "stream",
     "text": [
      "\n",
      "               Student Profile\n",
      "               _______________\n",
      "               Name: Kiran\n",
      "               Roll Number : 111\n",
      "               Course: Python\n",
      "               Centre:SSUET\n"
     ]
    }
   ],
   "source": [
    "s6.studentProfile()"
   ]
  },
  {
   "cell_type": "code",
   "execution_count": 63,
   "id": "f22b58d0",
   "metadata": {},
   "outputs": [
    {
     "ename": "TypeError",
     "evalue": "appearExam() missing 2 required positional arguments: 'attendance' and 'feesPaid'",
     "output_type": "error",
     "traceback": [
      "\u001b[1;31m---------------------------------------\u001b[0m",
      "\u001b[1;31mTypeError\u001b[0mTraceback (most recent call last)",
      "\u001b[1;32m<ipython-input-63-752a985ddba3>\u001b[0m in \u001b[0;36m<module>\u001b[1;34m\u001b[0m\n\u001b[1;32m----> 1\u001b[1;33m \u001b[0ms6\u001b[0m\u001b[1;33m.\u001b[0m\u001b[0mappearExam\u001b[0m\u001b[1;33m(\u001b[0m\u001b[1;33m)\u001b[0m\u001b[1;33m\u001b[0m\u001b[1;33m\u001b[0m\u001b[0m\n\u001b[0m",
      "\u001b[1;31mTypeError\u001b[0m: appearExam() missing 2 required positional arguments: 'attendance' and 'feesPaid'"
     ]
    }
   ],
   "source": [
    "s6.appearExam()"
   ]
  },
  {
   "cell_type": "code",
   "execution_count": 64,
   "id": "bad5e966",
   "metadata": {},
   "outputs": [
    {
     "name": "stdout",
     "output_type": "stream",
     "text": [
      "Kiran is not allowed to sit in exam\n"
     ]
    }
   ],
   "source": [
    "s6.appearExam(56,True)"
   ]
  },
  {
   "cell_type": "code",
   "execution_count": 65,
   "id": "2abdb7be",
   "metadata": {},
   "outputs": [
    {
     "name": "stdout",
     "output_type": "stream",
     "text": [
      "Kiran is not allowed to sit in exam\n"
     ]
    }
   ],
   "source": [
    "s6.appearExam(85,False)"
   ]
  },
  {
   "cell_type": "code",
   "execution_count": 66,
   "id": "54622b37",
   "metadata": {},
   "outputs": [
    {
     "name": "stdout",
     "output_type": "stream",
     "text": [
      "Kiran is allowed to sit in exam\n"
     ]
    }
   ],
   "source": [
    "s6.appearExam(85,True)"
   ]
  },
  {
   "cell_type": "code",
   "execution_count": 67,
   "id": "39552b26",
   "metadata": {},
   "outputs": [],
   "source": [
    "#Assigning default values to attrbiutes \n",
    "class Car():\n",
    "    def __init__(self,make, model, color, engine,wheels=4):\n",
    "        self.make = make\n",
    "        self.model = model\n",
    "        self.color = color\n",
    "        self.engine = engine\n",
    "        self.wheels = 4\n",
    "    "
   ]
  },
  {
   "cell_type": "code",
   "execution_count": 68,
   "id": "41910804",
   "metadata": {},
   "outputs": [
    {
     "data": {
      "text/plain": [
       "'Kiran'"
      ]
     },
     "execution_count": 68,
     "metadata": {},
     "output_type": "execute_result"
    }
   ],
   "source": [
    "s6.name"
   ]
  },
  {
   "cell_type": "code",
   "execution_count": 69,
   "id": "874cbcef",
   "metadata": {},
   "outputs": [],
   "source": [
    "s6.name = \"Kamran\""
   ]
  },
  {
   "cell_type": "code",
   "execution_count": 70,
   "id": "7171cb6b",
   "metadata": {},
   "outputs": [
    {
     "data": {
      "text/plain": [
       "'Kamran'"
      ]
     },
     "execution_count": 70,
     "metadata": {},
     "output_type": "execute_result"
    }
   ],
   "source": [
    "s6.name"
   ]
  },
  {
   "cell_type": "code",
   "execution_count": 71,
   "id": "27cbfeaf",
   "metadata": {},
   "outputs": [],
   "source": [
    "Student.course = \"Pandas\""
   ]
  },
  {
   "cell_type": "code",
   "execution_count": 72,
   "id": "c83e915b",
   "metadata": {},
   "outputs": [
    {
     "name": "stdout",
     "output_type": "stream",
     "text": [
      "\n",
      "               Student Profile\n",
      "               _______________\n",
      "               Name: Kamran\n",
      "               Roll Number : 111\n",
      "               Course: Pandas\n",
      "               Centre:SSUET\n"
     ]
    }
   ],
   "source": [
    "s6.studentProfile()"
   ]
  },
  {
   "cell_type": "code",
   "execution_count": 73,
   "id": "72e0dcbd",
   "metadata": {},
   "outputs": [],
   "source": [
    "s6.name = \"Kashif\""
   ]
  },
  {
   "cell_type": "code",
   "execution_count": 74,
   "id": "16cc73d8",
   "metadata": {},
   "outputs": [
    {
     "data": {
      "text/plain": [
       "'Kashif'"
      ]
     },
     "execution_count": 74,
     "metadata": {},
     "output_type": "execute_result"
    }
   ],
   "source": [
    "s6.name"
   ]
  },
  {
   "cell_type": "markdown",
   "id": "b23f1c04",
   "metadata": {},
   "source": [
    "# Getters Setters"
   ]
  },
  {
   "cell_type": "code",
   "execution_count": 80,
   "id": "9df4dc66",
   "metadata": {},
   "outputs": [],
   "source": [
    "class Student():\n",
    "    def __init__(self,name,roll,course,centre):\n",
    "        #Attributes/characteristics/ variables\n",
    "        self.name = name\n",
    "        self.roll = roll\n",
    "        self.course = course\n",
    "        self.centre = centre\n",
    "    #behaviours /functionalities / methods\n",
    "    \n",
    "    def appearExam(self):\n",
    "        print(f\"{self.name} is sitting in exam\")\n",
    "    \n",
    "    \n",
    "    def studentProfile(self):\n",
    "        print(f\"\"\"\n",
    "               Student Profile\n",
    "               _______________\n",
    "               Name: {self.name}\n",
    "               Roll Number : {self.roll}\n",
    "               Course: {self.course}\n",
    "               Centre:{self.centre}\"\"\")\n",
    "    \n",
    "    def getName(self):\n",
    "        print(f\"The student name is {self.name}\")\n",
    "    \n",
    "    def setName(self, newName):\n",
    "        self.name = newName\n",
    "        "
   ]
  },
  {
   "cell_type": "code",
   "execution_count": 81,
   "id": "7ad2327d",
   "metadata": {},
   "outputs": [],
   "source": [
    "s7=Student('Hamid',\"4444\",\"AI\",\"SSUET\")"
   ]
  },
  {
   "cell_type": "code",
   "execution_count": 82,
   "id": "4cf75605",
   "metadata": {},
   "outputs": [
    {
     "name": "stdout",
     "output_type": "stream",
     "text": [
      "The student name is Hamid\n"
     ]
    }
   ],
   "source": [
    "s7.getName()"
   ]
  },
  {
   "cell_type": "code",
   "execution_count": 83,
   "id": "a46566e3",
   "metadata": {},
   "outputs": [],
   "source": [
    "s7.setName(\"Kashif\")"
   ]
  },
  {
   "cell_type": "code",
   "execution_count": 84,
   "id": "f674c744",
   "metadata": {},
   "outputs": [
    {
     "name": "stdout",
     "output_type": "stream",
     "text": [
      "The student name is Kashif\n"
     ]
    }
   ],
   "source": [
    "s7.getName()"
   ]
  },
  {
   "cell_type": "code",
   "execution_count": 85,
   "id": "31f41cbe",
   "metadata": {},
   "outputs": [],
   "source": [
    "class Line():\n",
    "    def __init__(self, x1,y1,x2,y2):\n",
    "                \n",
    "        self.point_a = (x1,y1)\n",
    "        self.point_b = (x2,y2)\n",
    "    def length(self):\n",
    "        distance = ((self.point_b[0]-self.point_a[0])**2 + (self.point_b[1]-self.point_a[1])**2)**0.5    \n",
    "        return distance\n",
    "    def slope(self):\n",
    "        m  = (self.point_b[1]-self.point_a[1]) / (self.point_b[0]-self.point_a[0])\n",
    "        return m\n",
    "\n",
    "    def linesRelation(self,m1,m2):\n",
    "        if m1==m2:\n",
    "            return \"Lines are parallel\"\n",
    "        elif m1*m2==-1:\n",
    "            return \"Lines are perpendicular\"\n",
    "        else:\n",
    "            return \"Lines are niether parallel nor perpendicular\"\n",
    "        "
   ]
  },
  {
   "cell_type": "code",
   "execution_count": 86,
   "id": "ff832dcc",
   "metadata": {},
   "outputs": [],
   "source": [
    "l1 = Line(3,7,7,2)"
   ]
  },
  {
   "cell_type": "code",
   "execution_count": 87,
   "id": "d7869d1e",
   "metadata": {},
   "outputs": [
    {
     "data": {
      "text/plain": [
       "6.4031242374328485"
      ]
     },
     "execution_count": 87,
     "metadata": {},
     "output_type": "execute_result"
    }
   ],
   "source": [
    "l1.length()"
   ]
  },
  {
   "cell_type": "code",
   "execution_count": 92,
   "id": "af2d1bb8",
   "metadata": {},
   "outputs": [],
   "source": [
    "m1 = l1.slope()"
   ]
  },
  {
   "cell_type": "code",
   "execution_count": 89,
   "id": "4356823b",
   "metadata": {},
   "outputs": [],
   "source": [
    "l2 = Line(2,7,3,7)"
   ]
  },
  {
   "cell_type": "code",
   "execution_count": 90,
   "id": "bbef4759",
   "metadata": {},
   "outputs": [
    {
     "data": {
      "text/plain": [
       "1.0"
      ]
     },
     "execution_count": 90,
     "metadata": {},
     "output_type": "execute_result"
    }
   ],
   "source": [
    "l2.length()"
   ]
  },
  {
   "cell_type": "code",
   "execution_count": 91,
   "id": "8780bb1e",
   "metadata": {},
   "outputs": [
    {
     "data": {
      "text/plain": [
       "0.0"
      ]
     },
     "execution_count": 91,
     "metadata": {},
     "output_type": "execute_result"
    }
   ],
   "source": [
    "l2.slope()"
   ]
  },
  {
   "cell_type": "code",
   "execution_count": 93,
   "id": "270dbc1f",
   "metadata": {},
   "outputs": [
    {
     "data": {
      "text/plain": [
       "'Lines are niether parallel nor perpendicular'"
      ]
     },
     "execution_count": 93,
     "metadata": {},
     "output_type": "execute_result"
    }
   ],
   "source": [
    "l1.linesRelation(l1.slope(),l2.slope())"
   ]
  },
  {
   "cell_type": "markdown",
   "id": "4f88860c",
   "metadata": {},
   "source": [
    "\n",
    "# Inheritance "
   ]
  },
  {
   "cell_type": "code",
   "execution_count": 71,
   "id": "b5bdec37",
   "metadata": {},
   "outputs": [],
   "source": [
    "class CellPhone():\n",
    "    def __init__(self, model, make,battery):\n",
    "        self.model = model \n",
    "        self.make = make\n",
    "        self.battery = battery\n",
    "    def makecall(self):\n",
    "        print(f'call was made from {self.make} {self.model}');\n",
    "    def recvCall(self):\n",
    "        pass\n",
    "    def Game(self):\n",
    "        print('Game Running')"
   ]
  },
  {
   "cell_type": "code",
   "execution_count": 75,
   "id": "9695b8a6",
   "metadata": {},
   "outputs": [],
   "source": [
    "class Nokia3310(CellPhone):\n",
    "    def __init__(self, model, make,  battery, camera, calculator, radio):\n",
    "        super().__init__(model,make, battery);\n",
    "        self.camera = camera;\n",
    "        self.calculator = calculator;\n",
    "        self.radio = radio;\n"
   ]
  },
  {
   "cell_type": "code",
   "execution_count": 76,
   "id": "282a963e",
   "metadata": {},
   "outputs": [],
   "source": [
    "sp1 = Nokia3310('3310', 'nokia', '5000Mah', '64mp', 'cal', 'radio')"
   ]
  },
  {
   "cell_type": "code",
   "execution_count": 88,
   "id": "03dd2804",
   "metadata": {},
   "outputs": [],
   "source": [
    "class SmartPhone(CellPhone):\n",
    "    def __init__(self, model, make, battery, camera, calculator,radio):\n",
    "        super().__init__(model,make, battery);\n",
    "        self.camera = camera;\n",
    "        self.calculator = calculator;\n",
    "        self.radio = radio;\n",
    "        \n",
    "    def Game(self):\n",
    "        print(f'PUBG is running on {self.make} {self.model}')"
   ]
  },
  {
   "cell_type": "code",
   "execution_count": 89,
   "id": "fbb85b8d",
   "metadata": {},
   "outputs": [],
   "source": [
    "vivo = SmartPhone('v21e', 'ViVo', '5000mah', '64MP', 'cal', 'radio')"
   ]
  },
  {
   "cell_type": "code",
   "execution_count": 90,
   "id": "1d3caeb0",
   "metadata": {},
   "outputs": [
    {
     "name": "stdout",
     "output_type": "stream",
     "text": [
      "PUBG is running on ViVo v21e\n"
     ]
    }
   ],
   "source": [
    "vivo.Game()"
   ]
  },
  {
   "cell_type": "markdown",
   "id": "2148ea6a",
   "metadata": {},
   "source": [
    "### Object as attributes"
   ]
  },
  {
   "cell_type": "code",
   "execution_count": 6,
   "id": "273ca76e",
   "metadata": {},
   "outputs": [],
   "source": [
    "#Assigning default values to attrbiutes \n",
    "class Car():\n",
    "    def __init__(self,make, model, color, engine,wheels=4):\n",
    "        self.make = make\n",
    "        self.model = model\n",
    "        self.color = color\n",
    "        self.engine = engine\n",
    "        self.wheels = 4\n",
    "        \n",
    "    def run(self):\n",
    "        print(f'{self.make} {self.model} is running');\n",
    "            \n",
    "    def stop(self):\n",
    "        print(f'{self.make} {self.model} is stopped');\n",
    "    \n",
    "    def fuelTank(self):\n",
    "        print(f'{self.make} {self.model} is fuelling');\n"
   ]
  },
  {
   "cell_type": "code",
   "execution_count": 7,
   "id": "e557df6b",
   "metadata": {},
   "outputs": [],
   "source": [
    "class Battery():\n",
    "    def __init__(self, mauf, amp, cell, time):\n",
    "        self.mauf = mauf;\n",
    "        self.amp = amp;\n",
    "        self.cell = cell;\n",
    "        self.time = time;"
   ]
  },
  {
   "cell_type": "code",
   "execution_count": 23,
   "id": "e218d384",
   "metadata": {},
   "outputs": [],
   "source": [
    "class ElectricCar(Car):\n",
    "    def __init__(self,make, model, color, engine,wheels,):\n",
    "        super().__init__(make, model, color, engine, wheels)\n",
    "        \n",
    "    def makeBattery(self, batMauf, batAmp, batCell, batTime):\n",
    "        _battery = Battery(batMauf, batAmp, batCell, batTime);\n",
    "        self.battery = _battery;\n",
    "        \n",
    "    def fuelTank(gf):\n",
    "        print(f'{self.make} {self.model} has no fuel tank');"
   ]
  },
  {
   "cell_type": "code",
   "execution_count": 24,
   "id": "13608aeb",
   "metadata": {},
   "outputs": [],
   "source": [
    "e1 = ElectricCar('Tesla', 'Modal X', 'gray', '1300CC', \"4\",)"
   ]
  },
  {
   "cell_type": "code",
   "execution_count": 25,
   "id": "4e37b170",
   "metadata": {},
   "outputs": [],
   "source": [
    "e1.makeBattery( 'OSAKA',\"200\", \"27\", '3hours')"
   ]
  },
  {
   "cell_type": "code",
   "execution_count": 27,
   "id": "6c461172",
   "metadata": {},
   "outputs": [
    {
     "data": {
      "text/plain": [
       "'OSAKA'"
      ]
     },
     "execution_count": 27,
     "metadata": {},
     "output_type": "execute_result"
    }
   ],
   "source": [
    "e1.battery.mauf\n"
   ]
  },
  {
   "cell_type": "code",
   "execution_count": null,
   "id": "87a44759",
   "metadata": {},
   "outputs": [],
   "source": []
  }
 ],
 "metadata": {
  "kernelspec": {
   "display_name": "Python 3 (ipykernel)",
   "language": "python",
   "name": "python3"
  },
  "language_info": {
   "codemirror_mode": {
    "name": "ipython",
    "version": 3
   },
   "file_extension": ".py",
   "mimetype": "text/x-python",
   "name": "python",
   "nbconvert_exporter": "python",
   "pygments_lexer": "ipython3",
   "version": "3.9.12"
  }
 },
 "nbformat": 4,
 "nbformat_minor": 5
}
